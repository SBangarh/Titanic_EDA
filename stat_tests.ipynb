{
 "cells": [
  {
   "cell_type": "code",
   "execution_count": 1,
   "metadata": {},
   "outputs": [],
   "source": [
    "#import libraries\n",
    "import pandas as pd #data analysis and manipulation\n",
    "import numpy as np #math manipulation if required\n",
    "from scipy import stats #statistical tests\n",
    "\n",
    "#for visuals\n",
    "import matplotlib.pyplot as plt \n",
    "import seaborn as sns"
   ]
  },
  {
   "cell_type": "code",
   "execution_count": 2,
   "metadata": {},
   "outputs": [
    {
     "data": {
      "text/html": [
       "<div>\n",
       "<style scoped>\n",
       "    .dataframe tbody tr th:only-of-type {\n",
       "        vertical-align: middle;\n",
       "    }\n",
       "\n",
       "    .dataframe tbody tr th {\n",
       "        vertical-align: top;\n",
       "    }\n",
       "\n",
       "    .dataframe thead th {\n",
       "        text-align: right;\n",
       "    }\n",
       "</style>\n",
       "<table border=\"1\" class=\"dataframe\">\n",
       "  <thead>\n",
       "    <tr style=\"text-align: right;\">\n",
       "      <th></th>\n",
       "      <th>Survived</th>\n",
       "      <th>Passenger class</th>\n",
       "      <th>Sex</th>\n",
       "      <th>Age</th>\n",
       "      <th># Sibiling/Spouses Aboard</th>\n",
       "      <th># Parents/Children Aboard</th>\n",
       "      <th>Fare</th>\n",
       "      <th>Embarked</th>\n",
       "      <th>Family size</th>\n",
       "    </tr>\n",
       "  </thead>\n",
       "  <tbody>\n",
       "    <tr>\n",
       "      <th>0</th>\n",
       "      <td>0</td>\n",
       "      <td>3</td>\n",
       "      <td>male</td>\n",
       "      <td>22.0</td>\n",
       "      <td>1</td>\n",
       "      <td>0</td>\n",
       "      <td>7.25</td>\n",
       "      <td>Southhampton</td>\n",
       "      <td>1</td>\n",
       "    </tr>\n",
       "    <tr>\n",
       "      <th>1</th>\n",
       "      <td>1</td>\n",
       "      <td>1</td>\n",
       "      <td>female</td>\n",
       "      <td>38.0</td>\n",
       "      <td>1</td>\n",
       "      <td>0</td>\n",
       "      <td>71.28</td>\n",
       "      <td>Cherbourg</td>\n",
       "      <td>1</td>\n",
       "    </tr>\n",
       "    <tr>\n",
       "      <th>2</th>\n",
       "      <td>1</td>\n",
       "      <td>3</td>\n",
       "      <td>female</td>\n",
       "      <td>26.0</td>\n",
       "      <td>0</td>\n",
       "      <td>0</td>\n",
       "      <td>7.92</td>\n",
       "      <td>Southhampton</td>\n",
       "      <td>0</td>\n",
       "    </tr>\n",
       "    <tr>\n",
       "      <th>3</th>\n",
       "      <td>1</td>\n",
       "      <td>1</td>\n",
       "      <td>female</td>\n",
       "      <td>35.0</td>\n",
       "      <td>1</td>\n",
       "      <td>0</td>\n",
       "      <td>53.10</td>\n",
       "      <td>Southhampton</td>\n",
       "      <td>1</td>\n",
       "    </tr>\n",
       "    <tr>\n",
       "      <th>4</th>\n",
       "      <td>0</td>\n",
       "      <td>3</td>\n",
       "      <td>male</td>\n",
       "      <td>35.0</td>\n",
       "      <td>0</td>\n",
       "      <td>0</td>\n",
       "      <td>8.05</td>\n",
       "      <td>Southhampton</td>\n",
       "      <td>0</td>\n",
       "    </tr>\n",
       "  </tbody>\n",
       "</table>\n",
       "</div>"
      ],
      "text/plain": [
       "   Survived  Passenger class     Sex   Age  # Sibiling/Spouses Aboard  \\\n",
       "0         0                3    male  22.0                          1   \n",
       "1         1                1  female  38.0                          1   \n",
       "2         1                3  female  26.0                          0   \n",
       "3         1                1  female  35.0                          1   \n",
       "4         0                3    male  35.0                          0   \n",
       "\n",
       "   # Parents/Children Aboard   Fare      Embarked  Family size  \n",
       "0                          0   7.25  Southhampton            1  \n",
       "1                          0  71.28     Cherbourg            1  \n",
       "2                          0   7.92  Southhampton            0  \n",
       "3                          0  53.10  Southhampton            1  \n",
       "4                          0   8.05  Southhampton            0  "
      ]
     },
     "execution_count": 2,
     "metadata": {},
     "output_type": "execute_result"
    }
   ],
   "source": [
    "#load data\n",
    "data = pd.read_csv('Clean file.csv')\n",
    "data.head()"
   ]
  },
  {
   "cell_type": "markdown",
   "metadata": {},
   "source": [
    "# Hypotheses from EDA\n",
    "\n",
    "Since my target is Binomial, I'm going to see if there is significance there\n",
    "\n",
    "Survival rates and Sex\n",
    "- H0: There is no difference between survival rates of Male and Female\n",
    "- Ha: The is a difference between survival rates for Male and Female\n",
    "\n",
    "Survival rates and embarked sites\n",
    "- H0: There is no difference between survival rates between embarked sites\n",
    "- Ha: There is a difference between survival rates between embarked sites\n",
    "\n",
    "Survial rates and Passenger Classes\n",
    "- H0: There is no difference between survival rates of passengers in different classes\n",
    "- Ha: There is a difference between survival rates of passengers in different classes\n",
    "\n",
    "Fares and Survival\n",
    "- H0: There is no difference between the avg far paid between survived and not\n",
    "- Ha: There is a difference between the avg fare paid between survived and not\n",
    "\n",
    "Age and Survival\n",
    "- H0: There is no difference in the avg age of suvivors and perished\n",
    "- Ha: There is a difference in the avg age of survivors and perished"
   ]
  },
  {
   "cell_type": "code",
   "execution_count": 4,
   "metadata": {},
   "outputs": [
    {
     "name": "stdout",
     "output_type": "stream",
     "text": [
      "Reject H0: There is significant difference between survival rates in Males and Female\n"
     ]
    }
   ],
   "source": [
    "#Chi square for survival and Sex\n",
    "con_table = pd.crosstab(data['Survived'], data['Sex'])\n",
    "stat, pvalue, _, _ = stats.chi2_contingency(con_table)\n",
    "\n",
    "if pvalue < 0.05:\n",
    "    print('Reject H0: There is significant difference between survival rates in Males and Female')\n",
    "else:\n",
    "    print(\"Fail to reject H0: No significant difference between survival rates in Males and Females\")\n"
   ]
  },
  {
   "cell_type": "code",
   "execution_count": 5,
   "metadata": {},
   "outputs": [
    {
     "name": "stdout",
     "output_type": "stream",
     "text": [
      "Reject H0: There is significant difference between survival rates by embarked locations\n"
     ]
    }
   ],
   "source": [
    "#Chi square for survival and Embarked sites\n",
    "con_table = pd.crosstab(data['Survived'], data['Embarked'])\n",
    "stat, pvalue, _, _ = stats.chi2_contingency(con_table)\n",
    "\n",
    "if pvalue < 0.05:\n",
    "    print('Reject H0: There is significant difference between survival rates by embarked locations')\n",
    "else:\n",
    "    print(\"Fail to reject H0: No significant difference between survival rates by embarked locations\")"
   ]
  },
  {
   "cell_type": "code",
   "execution_count": 6,
   "metadata": {},
   "outputs": [
    {
     "name": "stdout",
     "output_type": "stream",
     "text": [
      "Reject H0: There is significant difference between survival rates by embarked locations\n"
     ]
    }
   ],
   "source": [
    "#Chi square for survival and passenger class\n",
    "con_table = pd.crosstab(data['Survived'], data['Passenger class'])\n",
    "stat, pvalue, _, _ = stats.chi2_contingency(con_table)\n",
    "\n",
    "if pvalue < 0.05:\n",
    "    print('Reject H0: There is significant difference between survival rates by embarked locations')\n",
    "else:\n",
    "    print(\"Fail to reject H0: No significant difference between survival rates by embarked locations\")"
   ]
  },
  {
   "cell_type": "code",
   "execution_count": 8,
   "metadata": {},
   "outputs": [
    {
     "name": "stdout",
     "output_type": "stream",
     "text": [
      "Reject H0: There is significant difference between the average fare paid and survival\n"
     ]
    }
   ],
   "source": [
    "#mann whitney U test fares and survive\n",
    "stat, pvalue = stats.mannwhitneyu(data['Fare'], data['Survived'])\n",
    "\n",
    "if pvalue < 0.05:\n",
    "    print('Reject H0: There is significant difference between the average fare paid and survival')\n",
    "else:\n",
    "    print(\"Fail to reject H0: No significant difference between the average fare paid and survival\")"
   ]
  },
  {
   "cell_type": "code",
   "execution_count": 9,
   "metadata": {},
   "outputs": [
    {
     "name": "stdout",
     "output_type": "stream",
     "text": [
      "Reject H0: There is significant difference between the average Age and survival\n"
     ]
    }
   ],
   "source": [
    "#mann whitney U test Age and survive\n",
    "stat, pvalue = stats.mannwhitneyu(data['Age'], data['Survived'])\n",
    "\n",
    "if pvalue < 0.05:\n",
    "    print('Reject H0: There is significant difference between the average Age and survival')\n",
    "else:\n",
    "    print(\"Fail to reject H0: No significant difference between the average Age and survival\")"
   ]
  },
  {
   "cell_type": "code",
   "execution_count": 10,
   "metadata": {},
   "outputs": [
    {
     "name": "stdout",
     "output_type": "stream",
     "text": [
      "Reject H0: There is significant difference between the average family size and survival\n"
     ]
    }
   ],
   "source": [
    "#mann whitney U test avg family size and survive\n",
    "stat, pvalue = stats.mannwhitneyu(data['Family size'], data['Survived'])\n",
    "\n",
    "if pvalue < 0.05:\n",
    "    print('Reject H0: There is significant difference between the average family size and survival')\n",
    "else:\n",
    "    print(\"Fail to reject H0: No significant difference between the average family size and survival\")"
   ]
  },
  {
   "cell_type": "code",
   "execution_count": null,
   "metadata": {},
   "outputs": [],
   "source": []
  },
  {
   "cell_type": "markdown",
   "metadata": {},
   "source": [
    "# Statistical Tests"
   ]
  },
  {
   "cell_type": "markdown",
   "metadata": {},
   "source": [
    "## Parametric\n",
    "\n",
    "Assumptions:\n",
    "- Independence of Observations\n",
    "- Homogeneity of Variance\n",
    "- Normality of Data (or normal-ish)"
   ]
  },
  {
   "cell_type": "markdown",
   "metadata": {},
   "source": [
    "### Regression"
   ]
  },
  {
   "cell_type": "markdown",
   "metadata": {},
   "source": [
    "#### Simple Linear Regression\n",
    "\n",
    "Questions: What is the impact of Predictor on Outcome varaible?\n",
    "\n",
    "Predictor Variable = Continous\n",
    "\n",
    "Outcome variable = Continous"
   ]
  },
  {
   "cell_type": "code",
   "execution_count": null,
   "metadata": {},
   "outputs": [],
   "source": []
  },
  {
   "cell_type": "markdown",
   "metadata": {},
   "source": [
    "#### Multiple Linear Regression\n",
    "\n",
    "Question: What is the impact of Predictors on Outcome variable?\n",
    "\n",
    "Predictor Variable = Continous (>=2)\n",
    "\n",
    "Outcome variable = Continous"
   ]
  },
  {
   "cell_type": "code",
   "execution_count": null,
   "metadata": {},
   "outputs": [],
   "source": []
  },
  {
   "cell_type": "markdown",
   "metadata": {},
   "source": [
    "#### Logistic Regression\n",
    "\n",
    "Question: What is the impact of Predictor on Binary outcome?\n",
    "\n",
    "Predictor variable = Continous\n",
    "\n",
    "Outcome variable = Binary"
   ]
  },
  {
   "cell_type": "code",
   "execution_count": null,
   "metadata": {},
   "outputs": [],
   "source": []
  },
  {
   "cell_type": "markdown",
   "metadata": {},
   "source": [
    "### Comparison"
   ]
  },
  {
   "cell_type": "markdown",
   "metadata": {},
   "source": [
    "#### Paired t-test\n",
    "\n",
    "Question: What is the effect of two different test prep programs on the average exam scores for students from the same class?\n",
    "\n",
    "Predictor variable = 1 Categorical\n",
    "\n",
    "Outcome variable = Quantitative (groups from same population)"
   ]
  },
  {
   "cell_type": "code",
   "execution_count": null,
   "metadata": {},
   "outputs": [],
   "source": []
  },
  {
   "cell_type": "markdown",
   "metadata": {},
   "source": [
    "#### Independent t-test\n",
    "\n",
    "Question: What is the difference in average exam scores for students from two different schools?\n",
    "\n",
    "Predictor = 1 categorical\n",
    "\n",
    "Outcome = two Quantitative groups from different population"
   ]
  },
  {
   "cell_type": "code",
   "execution_count": null,
   "metadata": {},
   "outputs": [],
   "source": []
  },
  {
   "cell_type": "markdown",
   "metadata": {},
   "source": [
    "#### ANOVA\n",
    "\n",
    "Question: What is the difference in average pain levels among post-surgical patients given three different painkillers?\n",
    "\n",
    "Predictor = >=1 Categorical\n",
    "\n",
    "Outcome = Quantitative or 1 Outcome"
   ]
  },
  {
   "cell_type": "code",
   "execution_count": null,
   "metadata": {},
   "outputs": [],
   "source": []
  },
  {
   "cell_type": "markdown",
   "metadata": {},
   "source": [
    "#### MANOVA\n",
    "\n",
    "Question: What is the effect of flower species on petal length, petal width, and stem length?\n",
    "\n",
    "Predictor = >=1 Categorical\n",
    "\n",
    "Outcome = Quantitative or >= 2 outcome"
   ]
  },
  {
   "cell_type": "markdown",
   "metadata": {},
   "source": [
    "### Correlation"
   ]
  },
  {
   "cell_type": "markdown",
   "metadata": {},
   "source": [
    "#### Pearson's r\n",
    "\n",
    "Question: how are two variable related?\n",
    "\n",
    "Predictor and Outcome = Continous"
   ]
  },
  {
   "cell_type": "code",
   "execution_count": null,
   "metadata": {},
   "outputs": [],
   "source": []
  },
  {
   "cell_type": "markdown",
   "metadata": {},
   "source": [
    "## Non-parametric\n",
    "\n",
    "Use if assumptions above are violated."
   ]
  },
  {
   "cell_type": "markdown",
   "metadata": {},
   "source": [
    "### Spearman's r\n",
    "\n",
    "Replaces Pearson's r\n",
    "\n",
    "Predictor variable = Quantitative\n",
    "\n",
    "Outcome variable = Quantitative"
   ]
  },
  {
   "cell_type": "code",
   "execution_count": 11,
   "metadata": {},
   "outputs": [
    {
     "name": "stdout",
     "output_type": "stream",
     "text": [
      "Age and # Sibiling/Spouses Aboard:\n",
      "Stat: -0.14532,\n",
      "pvalue: 0.00001\n",
      "Age and # Parents/Children Aboard:\n",
      "Stat: -0.21749,\n",
      "pvalue: 0.00000\n",
      "Age and Fare:\n",
      "Stat: 0.12602,\n",
      "pvalue: 0.00016\n"
     ]
    }
   ],
   "source": [
    "#scipy.stats version, use if need to know pvalue do for each pair\n",
    "\n",
    "stat, pvalue = stats.spearmanr(data['Age'], data['# Sibiling/Spouses Aboard'])\n",
    "print(f\"Age and # Sibiling/Spouses Aboard:\\nStat: {stat:.5f},\\npvalue: {pvalue:.5f}\")\n",
    "\n",
    "stat, pvalue = stats.spearmanr(data['Age'], data['# Parents/Children Aboard'])\n",
    "print(f\"Age and # Parents/Children Aboard:\\nStat: {stat:.5f},\\npvalue: {pvalue:.5f}\")\n",
    "\n",
    "stat, pvalue = stats.spearmanr(data['Age'], data['Fare'])\n",
    "print(f\"Age and Fare:\\nStat: {stat:.5f},\\npvalue: {pvalue:.5f}\")\n"
   ]
  },
  {
   "cell_type": "code",
   "execution_count": 12,
   "metadata": {},
   "outputs": [
    {
     "name": "stdout",
     "output_type": "stream",
     "text": [
      "# Sibiling/Spouses Aboard and # Parents/Children Aboard:\n",
      "Stat: 0.45001,\n",
      "pvalue: 0.00000\n",
      "# Sibiling/Spouses Aboard and Fare:\n",
      "Stat: 0.44713,\n",
      "pvalue: 0.00000\n"
     ]
    }
   ],
   "source": [
    "stat, pvalue = stats.spearmanr(data['# Sibiling/Spouses Aboard'], data['# Parents/Children Aboard'])\n",
    "print(f\"# Sibiling/Spouses Aboard and # Parents/Children Aboard:\\nStat: {stat:.5f},\\npvalue: {pvalue:.5f}\")\n",
    "\n",
    "stat, pvalue = stats.spearmanr(data['# Sibiling/Spouses Aboard'], data['Fare'])\n",
    "print(f\"# Sibiling/Spouses Aboard and Fare:\\nStat: {stat:.5f},\\npvalue: {pvalue:.5f}\")"
   ]
  },
  {
   "cell_type": "code",
   "execution_count": 13,
   "metadata": {},
   "outputs": [
    {
     "name": "stdout",
     "output_type": "stream",
     "text": [
      "# Parents/Children Aboard and Fare:\n",
      "Stat: 0.41009,\n",
      "pvalue: 0.00000\n"
     ]
    }
   ],
   "source": [
    "stat, pvalue = stats.spearmanr(data['# Parents/Children Aboard'], data['Fare'])\n",
    "print(f\"# Parents/Children Aboard and Fare:\\nStat: {stat:.5f},\\npvalue: {pvalue:.5f}\")"
   ]
  },
  {
   "cell_type": "markdown",
   "metadata": {},
   "source": [
    "### Chi Square Test of Independence\n",
    "\n",
    "Replaces Pearson's r\n",
    "\n",
    "Predictor variable = Categorical\n",
    "\n",
    "Outcome variable = Categorical"
   ]
  },
  {
   "cell_type": "code",
   "execution_count": 14,
   "metadata": {},
   "outputs": [
    {
     "name": "stdout",
     "output_type": "stream",
     "text": [
      "Survived and Sex:\n",
      "stat: 260.71702016732104,\n",
      "pvalue: 1.1973570627755645e-58\n",
      "Survived and Embarked:\n",
      "stat: 25.964452881874784,\n",
      "pvalue: 2.3008626481449577e-06\n",
      "Survived and Passenger class:\n",
      "stat: 102.88898875696056,\n",
      "pvalue: 4.549251711298793e-23\n"
     ]
    }
   ],
   "source": [
    "\n",
    "\n",
    "# survival and Embarked\n",
    "con_table = pd.crosstab(data['Survived'], data['Embarked'])\n",
    "stat, pvalue, _, _ = stats.chi2_contingency(con_table)\n",
    "print(f\"Survived and Embarked:\\nstat: {stat},\\npvalue: {pvalue}\")\n",
    "\n",
    "# survival and passenger class \n",
    "con_table = pd.crosstab(data['Survived'], data['Passenger class'])\n",
    "stat, pvalue, _, _ = stats.chi2_contingency(con_table)\n",
    "print(f\"Survived and Passenger class:\\nstat: {stat},\\npvalue: {pvalue}\")"
   ]
  },
  {
   "cell_type": "code",
   "execution_count": 15,
   "metadata": {},
   "outputs": [
    {
     "name": "stdout",
     "output_type": "stream",
     "text": [
      "Sex and Embarked:\n",
      "stat: 12.91702420065256,\n",
      "pvalue: 0.00156712570238841\n",
      "Sex and Passenger class:\n",
      "stat: 16.971499095517114,\n",
      "pvalue: 0.00020638864348233114\n"
     ]
    }
   ],
   "source": [
    "#Sex and Embarked\n",
    "con_table = pd.crosstab(data['Sex'], data['Embarked'])\n",
    "stat, pvalue, _, _ = stats.chi2_contingency(con_table)\n",
    "print(f\"Sex and Embarked:\\nstat: {stat},\\npvalue: {pvalue}\")\n",
    "\n",
    "# Sex and Passenger class\n",
    "con_table = pd.crosstab(data['Sex'], data['Passenger class'])\n",
    "stat, pvalue, _, _ = stats.chi2_contingency(con_table)\n",
    "print(f\"Sex and Passenger class:\\nstat: {stat},\\npvalue: {pvalue}\")"
   ]
  },
  {
   "cell_type": "code",
   "execution_count": 16,
   "metadata": {},
   "outputs": [
    {
     "name": "stdout",
     "output_type": "stream",
     "text": [
      "Embarked and Passenger class:\n",
      "stat: 122.64116372971472,\n",
      "pvalue: 1.4569383279917686e-25\n"
     ]
    }
   ],
   "source": [
    "# Passenger class and embarked\n",
    "con_table = pd.crosstab(data['Embarked'], data['Passenger class'])\n",
    "stat, pvalue, _, _ = stats.chi2_contingency(con_table)\n",
    "print(f\"Embarked and Passenger class:\\nstat: {stat},\\npvalue: {pvalue}\")"
   ]
  },
  {
   "cell_type": "markdown",
   "metadata": {},
   "source": [
    "It appears all the categorical features are dependent upon each other."
   ]
  },
  {
   "cell_type": "markdown",
   "metadata": {},
   "source": [
    "### Sign Test\n",
    "\n",
    "Replaces One-sample t-test\n",
    "\n",
    "Predictor variable = Categorical\n",
    "\n",
    "Outcome variable = Quantitative"
   ]
  },
  {
   "cell_type": "code",
   "execution_count": null,
   "metadata": {},
   "outputs": [],
   "source": []
  },
  {
   "cell_type": "markdown",
   "metadata": {},
   "source": [
    "### Kruskal-Wallis H\n",
    "\n",
    "Replaces ANOVA\n",
    "\n",
    "Predictor variable = >=3 groups (categorical)\n",
    "\n",
    "Outcome varaible = Quantitative"
   ]
  },
  {
   "cell_type": "code",
   "execution_count": null,
   "metadata": {},
   "outputs": [],
   "source": []
  },
  {
   "cell_type": "markdown",
   "metadata": {},
   "source": [
    "### ANOSIM\n",
    "\n",
    "Replaces MANOVA\n",
    "\n",
    "Predictor variable = >=3 categorical\n",
    "\n",
    "Outcome variable = Quantitative (>=2)"
   ]
  },
  {
   "cell_type": "code",
   "execution_count": null,
   "metadata": {},
   "outputs": [],
   "source": []
  },
  {
   "cell_type": "markdown",
   "metadata": {},
   "source": [
    "### Wilcoxon Tank-Sum test\n",
    "\n",
    "Replaces Independent t-test\n",
    "\n",
    "Predictor variable = Categorical (2 groups)\n",
    "\n",
    "Outcome variable = Quantitative (different populations)"
   ]
  },
  {
   "cell_type": "code",
   "execution_count": null,
   "metadata": {},
   "outputs": [],
   "source": []
  },
  {
   "cell_type": "markdown",
   "metadata": {},
   "source": [
    "### Wilcoxon Signed-Rank test\n",
    "\n",
    "Replaces paired t-test\n",
    "\n",
    "Predictor variable = Categorical (2 groups)\n",
    "\n",
    "Outcome variable = Quantitative (groups from same population)"
   ]
  },
  {
   "cell_type": "code",
   "execution_count": null,
   "metadata": {},
   "outputs": [],
   "source": []
  }
 ],
 "metadata": {
  "kernelspec": {
   "display_name": "ds_env",
   "language": "python",
   "name": "ds_env"
  },
  "language_info": {
   "codemirror_mode": {
    "name": "ipython",
    "version": 3
   },
   "file_extension": ".py",
   "mimetype": "text/x-python",
   "name": "python",
   "nbconvert_exporter": "python",
   "pygments_lexer": "ipython3",
   "version": "3.12.2"
  },
  "orig_nbformat": 4
 },
 "nbformat": 4,
 "nbformat_minor": 2
}
